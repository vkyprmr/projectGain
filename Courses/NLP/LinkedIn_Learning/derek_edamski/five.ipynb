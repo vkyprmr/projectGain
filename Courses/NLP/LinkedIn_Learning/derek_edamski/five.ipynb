{
 "cells": [
  {
   "cell_type": "code",
   "execution_count": 1,
   "metadata": {},
   "outputs": [],
   "source": [
    "# Machine Learning\n",
    "\"\"\"\n",
    "1. Supervised\n",
    "2. Unsupervised\n",
    "\n",
    "Holdout Test Set\n",
    "Cross Validation\n",
    "\n",
    "# Classification: Accuracy, Precision, Recall\n",
    "\n",
    "# To evaluate test set\n",
    "    slice data\n",
    "    examine wrong predictions\n",
    "    \n",
    "# METRICS is very important\n",
    "\"\"\""
   ]
  },
  {
   "cell_type": "code",
   "execution_count": null,
   "metadata": {},
   "outputs": [],
   "source": []
  }
 ],
 "metadata": {
  "kernelspec": {
   "display_name": "learnings",
   "language": "python",
   "name": "python3"
  },
  "language_info": {
   "codemirror_mode": {
    "name": "ipython",
    "version": 3
   },
   "file_extension": ".py",
   "mimetype": "text/x-python",
   "name": "python",
   "nbconvert_exporter": "python",
   "pygments_lexer": "ipython3",
   "version": "3.10.0"
  },
  "orig_nbformat": 4
 },
 "nbformat": 4,
 "nbformat_minor": 2
}
